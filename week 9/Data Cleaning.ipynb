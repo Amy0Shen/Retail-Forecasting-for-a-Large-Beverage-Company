{
 "cells": [
  {
   "cell_type": "code",
   "execution_count": 67,
   "id": "bb84e92e-dbc6-4c94-96d6-f1e8da146501",
   "metadata": {},
   "outputs": [],
   "source": [
    "import numpy as np\n",
    "import pandas as pd\n",
    "import scipy.stats as stats\n",
    "import matplotlib.pyplot as plt\n",
    "import seaborn as sns"
   ]
  },
  {
   "cell_type": "code",
   "execution_count": 135,
   "id": "9dc7155c-800c-4efb-96ea-30bd7f41e20f",
   "metadata": {},
   "outputs": [
    {
     "data": {
      "text/html": [
       "<div>\n",
       "<style scoped>\n",
       "    .dataframe tbody tr th:only-of-type {\n",
       "        vertical-align: middle;\n",
       "    }\n",
       "\n",
       "    .dataframe tbody tr th {\n",
       "        vertical-align: top;\n",
       "    }\n",
       "\n",
       "    .dataframe thead th {\n",
       "        text-align: right;\n",
       "    }\n",
       "</style>\n",
       "<table border=\"1\" class=\"dataframe\">\n",
       "  <thead>\n",
       "    <tr style=\"text-align: right;\">\n",
       "      <th></th>\n",
       "      <th>Product</th>\n",
       "      <th>date</th>\n",
       "      <th>Sales</th>\n",
       "      <th>Price Discount (%)</th>\n",
       "      <th>In-Store Promo</th>\n",
       "      <th>Catalogue Promo</th>\n",
       "      <th>Store End Promo</th>\n",
       "      <th>Google_Mobility</th>\n",
       "      <th>Covid_Flag</th>\n",
       "      <th>V_DAY</th>\n",
       "      <th>EASTER</th>\n",
       "      <th>CHRISTMAS</th>\n",
       "    </tr>\n",
       "  </thead>\n",
       "  <tbody>\n",
       "    <tr>\n",
       "      <th>0</th>\n",
       "      <td>SKU1</td>\n",
       "      <td>2017-02-05</td>\n",
       "      <td>27750</td>\n",
       "      <td>0.00</td>\n",
       "      <td>0</td>\n",
       "      <td>0</td>\n",
       "      <td>0</td>\n",
       "      <td>0.0</td>\n",
       "      <td>0</td>\n",
       "      <td>0</td>\n",
       "      <td>0</td>\n",
       "      <td>0</td>\n",
       "    </tr>\n",
       "    <tr>\n",
       "      <th>1</th>\n",
       "      <td>SKU1</td>\n",
       "      <td>2017-02-12</td>\n",
       "      <td>29023</td>\n",
       "      <td>0.00</td>\n",
       "      <td>1</td>\n",
       "      <td>0</td>\n",
       "      <td>1</td>\n",
       "      <td>0.0</td>\n",
       "      <td>0</td>\n",
       "      <td>1</td>\n",
       "      <td>0</td>\n",
       "      <td>0</td>\n",
       "    </tr>\n",
       "    <tr>\n",
       "      <th>2</th>\n",
       "      <td>SKU1</td>\n",
       "      <td>2017-02-19</td>\n",
       "      <td>45630</td>\n",
       "      <td>0.17</td>\n",
       "      <td>0</td>\n",
       "      <td>0</td>\n",
       "      <td>0</td>\n",
       "      <td>0.0</td>\n",
       "      <td>0</td>\n",
       "      <td>0</td>\n",
       "      <td>0</td>\n",
       "      <td>0</td>\n",
       "    </tr>\n",
       "    <tr>\n",
       "      <th>3</th>\n",
       "      <td>SKU1</td>\n",
       "      <td>2017-02-26</td>\n",
       "      <td>26789</td>\n",
       "      <td>0.00</td>\n",
       "      <td>1</td>\n",
       "      <td>0</td>\n",
       "      <td>1</td>\n",
       "      <td>0.0</td>\n",
       "      <td>0</td>\n",
       "      <td>0</td>\n",
       "      <td>0</td>\n",
       "      <td>0</td>\n",
       "    </tr>\n",
       "    <tr>\n",
       "      <th>4</th>\n",
       "      <td>SKU1</td>\n",
       "      <td>2017-03-05</td>\n",
       "      <td>41999</td>\n",
       "      <td>0.17</td>\n",
       "      <td>0</td>\n",
       "      <td>0</td>\n",
       "      <td>0</td>\n",
       "      <td>0.0</td>\n",
       "      <td>0</td>\n",
       "      <td>0</td>\n",
       "      <td>0</td>\n",
       "      <td>0</td>\n",
       "    </tr>\n",
       "  </tbody>\n",
       "</table>\n",
       "</div>"
      ],
      "text/plain": [
       "  Product       date  Sales  Price Discount (%)  In-Store Promo  \\\n",
       "0    SKU1 2017-02-05  27750                0.00               0   \n",
       "1    SKU1 2017-02-12  29023                0.00               1   \n",
       "2    SKU1 2017-02-19  45630                0.17               0   \n",
       "3    SKU1 2017-02-26  26789                0.00               1   \n",
       "4    SKU1 2017-03-05  41999                0.17               0   \n",
       "\n",
       "   Catalogue Promo  Store End Promo  Google_Mobility  Covid_Flag  V_DAY  \\\n",
       "0                0                0              0.0           0      0   \n",
       "1                0                1              0.0           0      1   \n",
       "2                0                0              0.0           0      0   \n",
       "3                0                1              0.0           0      0   \n",
       "4                0                0              0.0           0      0   \n",
       "\n",
       "   EASTER  CHRISTMAS  \n",
       "0       0          0  \n",
       "1       0          0  \n",
       "2       0          0  \n",
       "3       0          0  \n",
       "4       0          0  "
      ]
     },
     "execution_count": 135,
     "metadata": {},
     "output_type": "execute_result"
    }
   ],
   "source": [
    "data_path = \"forecasting_case_study.xlsx\"\n",
    "sales_data = pd.read_excel(data_path)\n",
    "sales_data.head()"
   ]
  },
  {
   "cell_type": "code",
   "execution_count": 136,
   "id": "e0153baa-4526-4ac0-b0ed-62b447c4d4d7",
   "metadata": {},
   "outputs": [
    {
     "data": {
      "text/plain": [
       "0"
      ]
     },
     "execution_count": 136,
     "metadata": {},
     "output_type": "execute_result"
    }
   ],
   "source": [
    "sales_data.duplicated().sum()"
   ]
  },
  {
   "cell_type": "code",
   "execution_count": 137,
   "id": "780b95b0-8b00-4da4-9869-2d07af016182",
   "metadata": {},
   "outputs": [
    {
     "data": {
      "text/plain": [
       "Index(['Product', 'date', 'Sales', 'Price Discount (%)', 'In-Store Promo',\n",
       "       'Catalogue Promo', 'Store End Promo', 'Google_Mobility', 'Covid_Flag',\n",
       "       'V_DAY', 'EASTER', 'CHRISTMAS'],\n",
       "      dtype='object')"
      ]
     },
     "execution_count": 137,
     "metadata": {},
     "output_type": "execute_result"
    }
   ],
   "source": [
    "sales_data.columns\n"
   ]
  },
  {
   "cell_type": "code",
   "execution_count": 138,
   "id": "e05839bd-60cb-41f5-a983-9ca83bae5a87",
   "metadata": {},
   "outputs": [
    {
     "data": {
      "text/plain": [
       "Product               0\n",
       "date                  0\n",
       "Sales                 0\n",
       "Price Discount (%)    0\n",
       "In-Store Promo        0\n",
       "Catalogue Promo       0\n",
       "Store End Promo       0\n",
       "Google_Mobility       0\n",
       "Covid_Flag            0\n",
       "V_DAY                 0\n",
       "EASTER                0\n",
       "CHRISTMAS             0\n",
       "dtype: int64"
      ]
     },
     "execution_count": 138,
     "metadata": {},
     "output_type": "execute_result"
    }
   ],
   "source": [
    "sales_data.isna().sum()"
   ]
  },
  {
   "cell_type": "markdown",
   "id": "8e071f9f-a9ea-4016-a683-8e08cfc07473",
   "metadata": {},
   "source": [
    "First we check wheter there is any replicate rows or any NA values in the dataframe, and the result shows that there is none."
   ]
  },
  {
   "cell_type": "code",
   "execution_count": 139,
   "id": "22a96209-d6f8-4673-ad60-0850cd6f32c2",
   "metadata": {},
   "outputs": [
    {
     "name": "stdout",
     "output_type": "stream",
     "text": [
      "In-Store Promo : [0 1]\n",
      "Catalogue Promo : [0 1]\n",
      "Store End Promo : [0 1]\n",
      "Google_Mobility : [  0.     2.36   3.3    3.9    3.81   3.01   0.26 -15.7  -26.63 -28.49\n",
      " -27.3  -24.28 -22.58 -18.18 -15.91 -15.27 -13.24 -10.86 -10.13  -8.68\n",
      "  -8.57  -7.5   -8.04  -9.36  -8.77  -9.93 -11.65 -13.23 -20.35 -19.41\n",
      " -18.83 -16.44  -7.28  -9.87  -7.79  -9.73  -7.39  -7.56  -8.39  -7.43\n",
      "  -5.95  -7.2   -5.96  -5.3   -4.38  -4.74 -10.27  -6.95]\n",
      "Covid_Flag : [0 1]\n",
      "V_DAY : [0 1]\n",
      "EASTER : [0 1]\n",
      "CHRISTMAS : [0 1]\n"
     ]
    }
   ],
   "source": [
    "for col in sales_data.iloc[:, 4:]:\n",
    "    print(col, \":\", sales_data[col].unique())"
   ]
  },
  {
   "cell_type": "markdown",
   "id": "1376fba4-a419-465f-bf93-66b933b19ff9",
   "metadata": {},
   "source": [
    "Then we check the values for the non-obvious columns to see whether they are categorical variables or numerical variable. For numerical variables, we can look for outliers and skewness. From above unique values in each row, we can see that only `Google_Mobility` (together with `Sales` and `Price Discount` which are ovbiously numerical) is numerical, and all other variables are categorical. "
   ]
  },
  {
   "cell_type": "code",
   "execution_count": 140,
   "id": "e6bf6ed5-452f-49db-a671-901585d0b5a9",
   "metadata": {},
   "outputs": [
    {
     "name": "stdout",
     "output_type": "stream",
     "text": [
      "SKU1 - Sales\n",
      "10     108159\n",
      "46     155253\n",
      "96     109917\n",
      "98     174994\n",
      "115    119393\n",
      "139    106885\n",
      "150    258874\n",
      "151    124261\n",
      "Name: Sales, dtype: int64\n"
     ]
    },
    {
     "data": {
      "image/png": "[encoded data removed]",
      "text/plain": [
       "<Figure size 640x480 with 1 Axes>"
      ]
     },
     "metadata": {},
     "output_type": "display_data"
    },
    {
     "name": "stdout",
     "output_type": "stream",
     "text": [
      "SKU1 - Price Discount (%)\n",
      "10     0.44\n",
      "32     0.44\n",
      "34     0.44\n",
      "39     0.44\n",
      "57     0.44\n",
      "70     0.44\n",
      "84     0.44\n",
      "91     0.44\n",
      "96     0.44\n",
      "115    0.44\n",
      "122    0.44\n",
      "139    0.44\n",
      "150    0.44\n",
      "151    0.44\n",
      "172    0.45\n",
      "188    0.44\n",
      "Name: Price Discount (%), dtype: float64\n"
     ]
    },
    {
     "data": {
      "image/png": "[encoded data removed]",
      "text/plain": [
       "<Figure size 640x480 with 1 Axes>"
      ]
     },
     "metadata": {},
     "output_type": "display_data"
    },
    {
     "name": "stdout",
     "output_type": "stream",
     "text": [
      "SKU1 - Google_Mobility\n",
      "163   -15.70\n",
      "164   -26.63\n",
      "165   -28.49\n",
      "166   -27.30\n",
      "167   -24.28\n",
      "168   -22.58\n",
      "169   -18.18\n",
      "170   -15.91\n",
      "171   -15.27\n",
      "184   -20.35\n",
      "185   -19.41\n",
      "186   -18.83\n",
      "187   -16.44\n",
      "Name: Google_Mobility, dtype: float64\n"
     ]
    },
    {
     "data": {
      "image/png": "[encoded data removed]",
      "text/plain": [
       "<Figure size 640x480 with 1 Axes>"
      ]
     },
     "metadata": {},
     "output_type": "display_data"
    },
    {
     "name": "stdout",
     "output_type": "stream",
     "text": [
      "SKU2 - Sales\n",
      "210    41915\n",
      "219    52122\n",
      "224    33566\n",
      "242    40527\n",
      "257    32549\n",
      "270    41316\n",
      "276    42002\n",
      "291    32900\n",
      "322    36674\n",
      "328    37065\n",
      "344    40111\n",
      "350    39870\n",
      "359    30409\n",
      "388    34327\n",
      "396    40169\n",
      "Name: Sales, dtype: int64\n"
     ]
    },
    {
     "data": {
      "image/png": "[encoded data removed]",
      "text/plain": [
       "<Figure size 640x480 with 1 Axes>"
      ]
     },
     "metadata": {},
     "output_type": "display_data"
    },
    {
     "name": "stdout",
     "output_type": "stream",
     "text": [
      "SKU2 - Price Discount (%)\n",
      "210    0.5\n",
      "219    0.5\n",
      "224    0.5\n",
      "242    0.5\n",
      "257    0.5\n",
      "265    0.5\n",
      "270    0.5\n",
      "276    0.5\n",
      "291    0.5\n",
      "311    0.5\n",
      "322    0.5\n",
      "328    0.5\n",
      "344    0.5\n",
      "350    0.5\n",
      "359    0.5\n",
      "388    0.5\n",
      "396    0.5\n",
      "400    0.5\n",
      "Name: Price Discount (%), dtype: float64\n"
     ]
    },
    {
     "data": {
      "image/png": "[encoded data removed]",
      "text/plain": [
       "<Figure size 640x480 with 1 Axes>"
      ]
     },
     "metadata": {},
     "output_type": "display_data"
    },
    {
     "name": "stdout",
     "output_type": "stream",
     "text": [
      "SKU2 - Google_Mobility\n",
      "367   -15.70\n",
      "368   -26.63\n",
      "369   -28.49\n",
      "370   -27.30\n",
      "371   -24.28\n",
      "372   -22.58\n",
      "373   -18.18\n",
      "374   -15.91\n",
      "375   -15.27\n",
      "388   -20.35\n",
      "389   -19.41\n",
      "390   -18.83\n",
      "391   -16.44\n",
      "Name: Google_Mobility, dtype: float64\n"
     ]
    },
    {
     "data": {
      "image/png": "[encoded data removed]",
      "text/plain": [
       "<Figure size 640x480 with 1 Axes>"
      ]
     },
     "metadata": {},
     "output_type": "display_data"
    },
    {
     "name": "stdout",
     "output_type": "stream",
     "text": [
      "SKU3 - Sales\n",
      "421    212245\n",
      "426    248373\n",
      "437    236242\n",
      "447    212947\n",
      "478    288322\n",
      "494    237462\n",
      "514    195088\n",
      "530    197503\n",
      "540    224723\n",
      "546    207356\n",
      "552    182891\n",
      "566    187548\n",
      "588    184365\n",
      "592    189965\n",
      "Name: Sales, dtype: int64\n"
     ]
    },
    {
     "data": {
      "image/png": "[encoded data removed]",
      "text/plain": [
       "<Figure size 640x480 with 1 Axes>"
      ]
     },
     "metadata": {},
     "output_type": "display_data"
    },
    {
     "name": "stdout",
     "output_type": "stream",
     "text": [
      "SKU3 - Price Discount (%)\n",
      "Series([], Name: Price Discount (%), dtype: float64)\n"
     ]
    },
    {
     "data": {
      "image/png": "[encoded data removed]",
      "text/plain": [
       "<Figure size 640x480 with 1 Axes>"
      ]
     },
     "metadata": {},
     "output_type": "display_data"
    },
    {
     "name": "stdout",
     "output_type": "stream",
     "text": [
      "SKU3 - Google_Mobility\n",
      "571   -15.70\n",
      "572   -26.63\n",
      "573   -28.49\n",
      "574   -27.30\n",
      "575   -24.28\n",
      "576   -22.58\n",
      "577   -18.18\n",
      "578   -15.91\n",
      "579   -15.27\n",
      "592   -20.35\n",
      "593   -19.41\n",
      "594   -18.83\n",
      "595   -16.44\n",
      "Name: Google_Mobility, dtype: float64\n"
     ]
    },
    {
     "data": {
      "image/png": "[encoded data removed]",
      "text/plain": [
       "<Figure size 640x480 with 1 Axes>"
      ]
     },
     "metadata": {},
     "output_type": "display_data"
    },
    {
     "name": "stdout",
     "output_type": "stream",
     "text": [
      "SKU4 - Sales\n",
      "625    65464\n",
      "630    63256\n",
      "641    75377\n",
      "651    69467\n",
      "682    72261\n",
      "698    66114\n",
      "718    63842\n",
      "734    59637\n",
      "744    64115\n",
      "750    56430\n",
      "756    54996\n",
      "770    58091\n",
      "792    76346\n",
      "796    81301\n",
      "Name: Sales, dtype: int64\n"
     ]
    },
    {
     "data": {
      "image/png": "[encoded data removed]",
      "text/plain": [
       "<Figure size 640x480 with 1 Axes>"
      ]
     },
     "metadata": {},
     "output_type": "display_data"
    },
    {
     "name": "stdout",
     "output_type": "stream",
     "text": [
      "SKU4 - Price Discount (%)\n",
      "Series([], Name: Price Discount (%), dtype: float64)\n"
     ]
    },
    {
     "data": {
      "image/png": "[encoded data removed]",
      "text/plain": [
       "<Figure size 640x480 with 1 Axes>"
      ]
     },
     "metadata": {},
     "output_type": "display_data"
    },
    {
     "name": "stdout",
     "output_type": "stream",
     "text": [
      "SKU4 - Google_Mobility\n",
      "775   -15.70\n",
      "776   -26.63\n",
      "777   -28.49\n",
      "778   -27.30\n",
      "779   -24.28\n",
      "780   -22.58\n",
      "781   -18.18\n",
      "782   -15.91\n",
      "783   -15.27\n",
      "796   -20.35\n",
      "797   -19.41\n",
      "798   -18.83\n",
      "799   -16.44\n",
      "Name: Google_Mobility, dtype: float64\n"
     ]
    },
    {
     "data": {
      "image/png": "[encoded data removed]",
      "text/plain": [
       "<Figure size 640x480 with 1 Axes>"
      ]
     },
     "metadata": {},
     "output_type": "display_data"
    },
    {
     "name": "stdout",
     "output_type": "stream",
     "text": [
      "SKU5 - Sales\n",
      "838    55905\n",
      "844    73114\n",
      "849    55567\n",
      "856    50485\n",
      "866    51114\n",
      "885    55160\n",
      "889    56275\n",
      "934    47061\n",
      "938    57064\n",
      "941    61658\n",
      "947    63644\n",
      "952    56807\n",
      "956    57496\n",
      "987    61753\n",
      "996    73058\n",
      "Name: Sales, dtype: int64\n"
     ]
    },
    {
     "data": {
      "image/png": "[encoded data removed]",
      "text/plain": [
       "<Figure size 640x480 with 1 Axes>"
      ]
     },
     "metadata": {},
     "output_type": "display_data"
    },
    {
     "name": "stdout",
     "output_type": "stream",
     "text": [
      "SKU5 - Price Discount (%)\n",
      "Series([], Name: Price Discount (%), dtype: float64)\n"
     ]
    },
    {
     "data": {
      "image/png": "[encoded data removed]",
      "text/plain": [
       "<Figure size 640x480 with 1 Axes>"
      ]
     },
     "metadata": {},
     "output_type": "display_data"
    },
    {
     "name": "stdout",
     "output_type": "stream",
     "text": [
      "SKU5 - Google_Mobility\n",
      "979    -15.70\n",
      "980    -26.63\n",
      "981    -28.49\n",
      "982    -27.30\n",
      "983    -24.28\n",
      "984    -22.58\n",
      "985    -18.18\n",
      "986    -15.91\n",
      "987    -15.27\n",
      "1000   -20.35\n",
      "1001   -19.41\n",
      "1002   -18.83\n",
      "1003   -16.44\n",
      "Name: Google_Mobility, dtype: float64\n"
     ]
    },
    {
     "data": {
      "image/png": "[encoded data removed]",
      "text/plain": [
       "<Figure size 640x480 with 1 Axes>"
      ]
     },
     "metadata": {},
     "output_type": "display_data"
    },
    {
     "name": "stdout",
     "output_type": "stream",
     "text": [
      "SKU6 - Sales\n",
      "1025    118504\n",
      "1037    142953\n",
      "1041    131072\n",
      "1046    118276\n",
      "1053    129254\n",
      "1057    154098\n",
      "1058    241114\n",
      "1089    128647\n",
      "1105    127468\n",
      "1109    140995\n",
      "1110    181833\n",
      "1161    138789\n",
      "1162    143887\n",
      "1163    163536\n",
      "1214    115798\n",
      "1215    152186\n",
      "Name: Sales, dtype: int64\n"
     ]
    },
    {
     "data": {
      "image/png": "[encoded data removed]",
      "text/plain": [
       "<Figure size 640x480 with 1 Axes>"
      ]
     },
     "metadata": {},
     "output_type": "display_data"
    },
    {
     "name": "stdout",
     "output_type": "stream",
     "text": [
      "SKU6 - Price Discount (%)\n",
      "1173    0.69\n",
      "1175    0.69\n",
      "1177    0.69\n",
      "1179    0.69\n",
      "1181    0.69\n",
      "1183    0.69\n",
      "Name: Price Discount (%), dtype: float64\n"
     ]
    },
    {
     "data": {
      "image/png": "[encoded data removed]",
      "text/plain": [
       "<Figure size 640x480 with 1 Axes>"
      ]
     },
     "metadata": {},
     "output_type": "display_data"
    },
    {
     "name": "stdout",
     "output_type": "stream",
     "text": [
      "SKU6 - Google_Mobility\n",
      "1183   -15.70\n",
      "1184   -26.63\n",
      "1185   -28.49\n",
      "1186   -27.30\n",
      "1187   -24.28\n",
      "1188   -22.58\n",
      "1189   -18.18\n",
      "1190   -15.91\n",
      "1191   -15.27\n",
      "1204   -20.35\n",
      "1205   -19.41\n",
      "1206   -18.83\n",
      "1207   -16.44\n",
      "Name: Google_Mobility, dtype: float64\n"
     ]
    },
    {
     "data": {
      "image/png": "[encoded data removed]",
      "text/plain": [
       "<Figure size 640x480 with 1 Axes>"
      ]
     },
     "metadata": {},
     "output_type": "display_data"
    }
   ],
   "source": [
    "for i in range(1, 7):\n",
    "    product = \"SKU\" + str(i)\n",
    "    product_data = sales_data[sales_data[\"Product\"] == product]\n",
    "    for col in [\"Sales\", \"Price Discount (%)\", \"Google_Mobility\"]:\n",
    "        col_data = product_data[col]\n",
    "        z_scores = np.abs(stats.zscore(col_data.dropna()))\n",
    "        outliers = np.where(z_scores > 2)[0]  # outliers have z-score > 2\n",
    "        print(product, \"-\", col)\n",
    "        print(product_data.iloc[outliers][col])\n",
    "        plt.hist(col_data)\n",
    "        plt.show()"
   ]
  },
  {
   "cell_type": "markdown",
   "id": "b34cb765-2c26-401f-b905-13046358fce4",
   "metadata": {},
   "source": [
    "We can see that for all products, `Sales` is right skewed and `Google_Mobility` is left skewed, while `Price Discount (%)` is more randomly scattered. There are some outliers in each category. We believe that since discount is scattered everwhere, and a lot of the outliers are actually the same value, so they are not truely outliers, but just the nature of the data. Therefore, we will not remove those. While for the other two columns, I believe we need to farther investigate into the patterns of the data before deciding whether they are truely outliers. If there are true outliers, we would want to replace with mean of the column. This is because each data point is important in analyzing the trends and we cannot simply remove columns with outliers."
   ]
  },
  {
   "cell_type": "markdown",
   "id": "b23f5db9-3904-432e-9c2d-7ce3c80bd18e",
   "metadata": {},
   "source": [
    "Lets further investigate the data points of the two columns(Sales and Google_Mobility)  "
   ]
  },
  {
   "cell_type": "code",
   "execution_count": 141,
   "id": "603be3f8-6f0e-4d78-9c48-e56be2edfc68",
   "metadata": {},
   "outputs": [
    {
     "data": {
      "text/html": [
       "<div>\n",
       "<style scoped>\n",
       "    .dataframe tbody tr th:only-of-type {\n",
       "        vertical-align: middle;\n",
       "    }\n",
       "\n",
       "    .dataframe tbody tr th {\n",
       "        vertical-align: top;\n",
       "    }\n",
       "\n",
       "    .dataframe thead th {\n",
       "        text-align: right;\n",
       "    }\n",
       "</style>\n",
       "<table border=\"1\" class=\"dataframe\">\n",
       "  <thead>\n",
       "    <tr style=\"text-align: right;\">\n",
       "      <th></th>\n",
       "      <th>date</th>\n",
       "      <th>Sales</th>\n",
       "      <th>Price Discount (%)</th>\n",
       "      <th>In-Store Promo</th>\n",
       "      <th>Catalogue Promo</th>\n",
       "      <th>Store End Promo</th>\n",
       "      <th>Google_Mobility</th>\n",
       "      <th>Covid_Flag</th>\n",
       "      <th>V_DAY</th>\n",
       "      <th>EASTER</th>\n",
       "      <th>CHRISTMAS</th>\n",
       "    </tr>\n",
       "  </thead>\n",
       "  <tbody>\n",
       "    <tr>\n",
       "      <th>count</th>\n",
       "      <td>1218</td>\n",
       "      <td>1218.000000</td>\n",
       "      <td>1218.000000</td>\n",
       "      <td>1218.000000</td>\n",
       "      <td>1218.000000</td>\n",
       "      <td>1218.000000</td>\n",
       "      <td>1218.000000</td>\n",
       "      <td>1218.000000</td>\n",
       "      <td>1218.000000</td>\n",
       "      <td>1218.000000</td>\n",
       "      <td>1218.000000</td>\n",
       "    </tr>\n",
       "    <tr>\n",
       "      <th>mean</th>\n",
       "      <td>2019-01-13 02:04:08.275862016</td>\n",
       "      <td>30294.678982</td>\n",
       "      <td>0.251043</td>\n",
       "      <td>0.472085</td>\n",
       "      <td>0.212644</td>\n",
       "      <td>0.348933</td>\n",
       "      <td>-2.377406</td>\n",
       "      <td>0.226601</td>\n",
       "      <td>0.019704</td>\n",
       "      <td>0.019704</td>\n",
       "      <td>0.018883</td>\n",
       "    </tr>\n",
       "    <tr>\n",
       "      <th>min</th>\n",
       "      <td>2017-02-05 00:00:00</td>\n",
       "      <td>0.000000</td>\n",
       "      <td>0.000000</td>\n",
       "      <td>0.000000</td>\n",
       "      <td>0.000000</td>\n",
       "      <td>0.000000</td>\n",
       "      <td>-28.490000</td>\n",
       "      <td>0.000000</td>\n",
       "      <td>0.000000</td>\n",
       "      <td>0.000000</td>\n",
       "      <td>0.000000</td>\n",
       "    </tr>\n",
       "    <tr>\n",
       "      <th>25%</th>\n",
       "      <td>2018-01-21 00:00:00</td>\n",
       "      <td>7212.750000</td>\n",
       "      <td>0.020000</td>\n",
       "      <td>0.000000</td>\n",
       "      <td>0.000000</td>\n",
       "      <td>0.000000</td>\n",
       "      <td>0.000000</td>\n",
       "      <td>0.000000</td>\n",
       "      <td>0.000000</td>\n",
       "      <td>0.000000</td>\n",
       "      <td>0.000000</td>\n",
       "    </tr>\n",
       "    <tr>\n",
       "      <th>50%</th>\n",
       "      <td>2019-01-13 00:00:00</td>\n",
       "      <td>19742.000000</td>\n",
       "      <td>0.250000</td>\n",
       "      <td>0.000000</td>\n",
       "      <td>0.000000</td>\n",
       "      <td>0.000000</td>\n",
       "      <td>0.000000</td>\n",
       "      <td>0.000000</td>\n",
       "      <td>0.000000</td>\n",
       "      <td>0.000000</td>\n",
       "      <td>0.000000</td>\n",
       "    </tr>\n",
       "    <tr>\n",
       "      <th>75%</th>\n",
       "      <td>2020-01-05 00:00:00</td>\n",
       "      <td>40282.250000</td>\n",
       "      <td>0.400000</td>\n",
       "      <td>1.000000</td>\n",
       "      <td>0.000000</td>\n",
       "      <td>1.000000</td>\n",
       "      <td>0.000000</td>\n",
       "      <td>0.000000</td>\n",
       "      <td>0.000000</td>\n",
       "      <td>0.000000</td>\n",
       "      <td>0.000000</td>\n",
       "    </tr>\n",
       "    <tr>\n",
       "      <th>max</th>\n",
       "      <td>2020-12-27 00:00:00</td>\n",
       "      <td>288322.000000</td>\n",
       "      <td>0.830000</td>\n",
       "      <td>1.000000</td>\n",
       "      <td>1.000000</td>\n",
       "      <td>1.000000</td>\n",
       "      <td>3.900000</td>\n",
       "      <td>1.000000</td>\n",
       "      <td>1.000000</td>\n",
       "      <td>1.000000</td>\n",
       "      <td>1.000000</td>\n",
       "    </tr>\n",
       "    <tr>\n",
       "      <th>std</th>\n",
       "      <td>NaN</td>\n",
       "      <td>35032.527297</td>\n",
       "      <td>0.215494</td>\n",
       "      <td>0.499425</td>\n",
       "      <td>0.409346</td>\n",
       "      <td>0.476828</td>\n",
       "      <td>5.806291</td>\n",
       "      <td>0.418804</td>\n",
       "      <td>0.139040</td>\n",
       "      <td>0.139040</td>\n",
       "      <td>0.136169</td>\n",
       "    </tr>\n",
       "  </tbody>\n",
       "</table>\n",
       "</div>"
      ],
      "text/plain": [
       "                                date          Sales  Price Discount (%)  \\\n",
       "count                           1218    1218.000000         1218.000000   \n",
       "mean   2019-01-13 02:04:08.275862016   30294.678982            0.251043   \n",
       "min              2017-02-05 00:00:00       0.000000            0.000000   \n",
       "25%              2018-01-21 00:00:00    7212.750000            0.020000   \n",
       "50%              2019-01-13 00:00:00   19742.000000            0.250000   \n",
       "75%              2020-01-05 00:00:00   40282.250000            0.400000   \n",
       "max              2020-12-27 00:00:00  288322.000000            0.830000   \n",
       "std                              NaN   35032.527297            0.215494   \n",
       "\n",
       "       In-Store Promo  Catalogue Promo  Store End Promo  Google_Mobility  \\\n",
       "count     1218.000000      1218.000000      1218.000000      1218.000000   \n",
       "mean         0.472085         0.212644         0.348933        -2.377406   \n",
       "min          0.000000         0.000000         0.000000       -28.490000   \n",
       "25%          0.000000         0.000000         0.000000         0.000000   \n",
       "50%          0.000000         0.000000         0.000000         0.000000   \n",
       "75%          1.000000         0.000000         1.000000         0.000000   \n",
       "max          1.000000         1.000000         1.000000         3.900000   \n",
       "std          0.499425         0.409346         0.476828         5.806291   \n",
       "\n",
       "        Covid_Flag        V_DAY       EASTER    CHRISTMAS  \n",
       "count  1218.000000  1218.000000  1218.000000  1218.000000  \n",
       "mean      0.226601     0.019704     0.019704     0.018883  \n",
       "min       0.000000     0.000000     0.000000     0.000000  \n",
       "25%       0.000000     0.000000     0.000000     0.000000  \n",
       "50%       0.000000     0.000000     0.000000     0.000000  \n",
       "75%       0.000000     0.000000     0.000000     0.000000  \n",
       "max       1.000000     1.000000     1.000000     1.000000  \n",
       "std       0.418804     0.139040     0.139040     0.136169  "
      ]
     },
     "execution_count": 141,
     "metadata": {},
     "output_type": "execute_result"
    }
   ],
   "source": [
    "sales_data.describe()"
   ]
  },
  {
   "cell_type": "markdown",
   "id": "83104a15-c85c-4673-bbc2-0d64fedaf7f7",
   "metadata": {},
   "source": [
    "In the sales column, there is a huge difference between the mean and the 50th percentile, the maximum and 75th percentile this shows the right skewness of the data. The google mobility column is quite the opposite, the mean value being lower than the 50th percentile and min value is lower than 25th percentile showing the leftskewdness of the data, lets visualize below using box plot."
   ]
  },
  {
   "cell_type": "code",
   "execution_count": 142,
   "id": "9cc38472-d984-472a-bb60-55e5164ba524",
   "metadata": {},
   "outputs": [
    {
     "name": "stderr",
     "output_type": "stream",
     "text": [
      "/Library/Frameworks/Python.framework/Versions/3.12/lib/python3.12/site-packages/seaborn/categorical.py:640: FutureWarning: SeriesGroupBy.grouper is deprecated and will be removed in a future version of pandas.\n",
      "  positions = grouped.grouper.result_index.to_numpy(dtype=float)\n"
     ]
    },
    {
     "data": {
      "image/png": "[encoded data removed]",
      "text/plain": [
       "<Figure size 1000x500 with 1 Axes>"
      ]
     },
     "metadata": {},
     "output_type": "display_data"
    },
    {
     "name": "stderr",
     "output_type": "stream",
     "text": [
      "/Library/Frameworks/Python.framework/Versions/3.12/lib/python3.12/site-packages/seaborn/categorical.py:640: FutureWarning: SeriesGroupBy.grouper is deprecated and will be removed in a future version of pandas.\n",
      "  positions = grouped.grouper.result_index.to_numpy(dtype=float)\n"
     ]
    },
    {
     "data": {
      "image/png": "[encoded data removed]",
      "text/plain": [
       "<Figure size 1000x500 with 1 Axes>"
      ]
     },
     "metadata": {},
     "output_type": "display_data"
    }
   ],
   "source": [
    "for col in [\"Sales\", \"Google_Mobility\"]:\n",
    "    plt.figure(figsize=(10, 5))\n",
    "    sns.boxplot(x=sales_data[col])\n",
    "    plt.title(f'Boxplot of {col}')\n",
    "    plt.show()"
   ]
  },
  {
   "cell_type": "markdown",
   "id": "bbd87c5d-8b48-4b83-8747-8ed786231e93",
   "metadata": {},
   "source": [
    "**Google_mobility**"
   ]
  },
  {
   "cell_type": "code",
   "execution_count": 143,
   "id": "069289a1-07fb-428a-9b73-8a699974b0fa",
   "metadata": {},
   "outputs": [
    {
     "data": {
      "text/plain": [
       "Product                              SKU1\n",
       "date                  2020-04-05 00:00:00\n",
       "Sales                               39473\n",
       "Price Discount (%)                   0.01\n",
       "In-Store Promo                          0\n",
       "Catalogue Promo                         1\n",
       "Store End Promo                         0\n",
       "Google_Mobility                    -28.49\n",
       "Covid_Flag                              1\n",
       "V_DAY                                   0\n",
       "EASTER                                  0\n",
       "CHRISTMAS                               0\n",
       "Name: 165, dtype: object"
      ]
     },
     "execution_count": 143,
     "metadata": {},
     "output_type": "execute_result"
    }
   ],
   "source": [
    "# checking for the minimum value\n",
    "\n",
    "Google_Mobility_min = sales_data.loc[sales_data['Google_Mobility'].idxmin()]\n",
    "Google_Mobility_min"
   ]
  },
  {
   "cell_type": "code",
   "execution_count": 172,
   "id": "4f22d36b-ed19-4faa-84c6-4d594825f79a",
   "metadata": {},
   "outputs": [
    {
     "data": {
      "text/html": [
       "<div>\n",
       "<style scoped>\n",
       "    .dataframe tbody tr th:only-of-type {\n",
       "        vertical-align: middle;\n",
       "    }\n",
       "\n",
       "    .dataframe tbody tr th {\n",
       "        vertical-align: top;\n",
       "    }\n",
       "\n",
       "    .dataframe thead th {\n",
       "        text-align: right;\n",
       "    }\n",
       "</style>\n",
       "<table border=\"1\" class=\"dataframe\">\n",
       "  <thead>\n",
       "    <tr style=\"text-align: right;\">\n",
       "      <th></th>\n",
       "      <th>Product</th>\n",
       "      <th>date</th>\n",
       "      <th>Sales</th>\n",
       "      <th>Price Discount (%)</th>\n",
       "      <th>In-Store Promo</th>\n",
       "      <th>Catalogue Promo</th>\n",
       "      <th>Store End Promo</th>\n",
       "      <th>Google_Mobility</th>\n",
       "      <th>Covid_Flag</th>\n",
       "      <th>V_DAY</th>\n",
       "      <th>EASTER</th>\n",
       "      <th>CHRISTMAS</th>\n",
       "      <th>transformed_cuberootgm</th>\n",
       "      <th>transformed_sqrtgm</th>\n",
       "      <th>sales_sqrt</th>\n",
       "      <th>log_sales</th>\n",
       "      <th>sales_interpolated</th>\n",
       "      <th>cuberoot_googlemobility</th>\n",
       "    </tr>\n",
       "  </thead>\n",
       "  <tbody>\n",
       "    <tr>\n",
       "      <th>165</th>\n",
       "      <td>SKU1</td>\n",
       "      <td>2020-04-05</td>\n",
       "      <td>39473</td>\n",
       "      <td>0.01</td>\n",
       "      <td>0</td>\n",
       "      <td>1</td>\n",
       "      <td>0</td>\n",
       "      <td>-28.49</td>\n",
       "      <td>1</td>\n",
       "      <td>0</td>\n",
       "      <td>0</td>\n",
       "      <td>0</td>\n",
       "      <td>3.220121</td>\n",
       "      <td>5.778408</td>\n",
       "      <td>198.678132</td>\n",
       "      <td>10.583372</td>\n",
       "      <td>39473</td>\n",
       "      <td>3.220121</td>\n",
       "    </tr>\n",
       "    <tr>\n",
       "      <th>573</th>\n",
       "      <td>SKU3</td>\n",
       "      <td>2020-04-05</td>\n",
       "      <td>29350</td>\n",
       "      <td>0.67</td>\n",
       "      <td>0</td>\n",
       "      <td>1</td>\n",
       "      <td>0</td>\n",
       "      <td>-28.49</td>\n",
       "      <td>1</td>\n",
       "      <td>0</td>\n",
       "      <td>0</td>\n",
       "      <td>0</td>\n",
       "      <td>3.220121</td>\n",
       "      <td>5.778408</td>\n",
       "      <td>171.318417</td>\n",
       "      <td>10.287048</td>\n",
       "      <td>29350</td>\n",
       "      <td>3.220121</td>\n",
       "    </tr>\n",
       "    <tr>\n",
       "      <th>369</th>\n",
       "      <td>SKU2</td>\n",
       "      <td>2020-04-05</td>\n",
       "      <td>3719</td>\n",
       "      <td>0.01</td>\n",
       "      <td>0</td>\n",
       "      <td>0</td>\n",
       "      <td>0</td>\n",
       "      <td>-28.49</td>\n",
       "      <td>1</td>\n",
       "      <td>0</td>\n",
       "      <td>0</td>\n",
       "      <td>0</td>\n",
       "      <td>3.220121</td>\n",
       "      <td>5.778408</td>\n",
       "      <td>60.983604</td>\n",
       "      <td>8.221210</td>\n",
       "      <td>3719</td>\n",
       "      <td>3.220121</td>\n",
       "    </tr>\n",
       "    <tr>\n",
       "      <th>981</th>\n",
       "      <td>SKU5</td>\n",
       "      <td>2020-04-05</td>\n",
       "      <td>16928</td>\n",
       "      <td>0.25</td>\n",
       "      <td>0</td>\n",
       "      <td>1</td>\n",
       "      <td>0</td>\n",
       "      <td>-28.49</td>\n",
       "      <td>1</td>\n",
       "      <td>0</td>\n",
       "      <td>0</td>\n",
       "      <td>0</td>\n",
       "      <td>3.220121</td>\n",
       "      <td>5.778408</td>\n",
       "      <td>130.107648</td>\n",
       "      <td>9.736724</td>\n",
       "      <td>16928</td>\n",
       "      <td>3.220121</td>\n",
       "    </tr>\n",
       "    <tr>\n",
       "      <th>1185</th>\n",
       "      <td>SKU6</td>\n",
       "      <td>2020-04-05</td>\n",
       "      <td>9705</td>\n",
       "      <td>0.53</td>\n",
       "      <td>0</td>\n",
       "      <td>0</td>\n",
       "      <td>0</td>\n",
       "      <td>-28.49</td>\n",
       "      <td>1</td>\n",
       "      <td>0</td>\n",
       "      <td>0</td>\n",
       "      <td>0</td>\n",
       "      <td>3.220121</td>\n",
       "      <td>5.778408</td>\n",
       "      <td>98.513958</td>\n",
       "      <td>9.180396</td>\n",
       "      <td>9705</td>\n",
       "      <td>3.220121</td>\n",
       "    </tr>\n",
       "    <tr>\n",
       "      <th>...</th>\n",
       "      <td>...</td>\n",
       "      <td>...</td>\n",
       "      <td>...</td>\n",
       "      <td>...</td>\n",
       "      <td>...</td>\n",
       "      <td>...</td>\n",
       "      <td>...</td>\n",
       "      <td>...</td>\n",
       "      <td>...</td>\n",
       "      <td>...</td>\n",
       "      <td>...</td>\n",
       "      <td>...</td>\n",
       "      <td>...</td>\n",
       "      <td>...</td>\n",
       "      <td>...</td>\n",
       "      <td>...</td>\n",
       "      <td>...</td>\n",
       "      <td>...</td>\n",
       "    </tr>\n",
       "    <tr>\n",
       "      <th>975</th>\n",
       "      <td>SKU5</td>\n",
       "      <td>2020-02-23</td>\n",
       "      <td>5666</td>\n",
       "      <td>0.00</td>\n",
       "      <td>0</td>\n",
       "      <td>0</td>\n",
       "      <td>0</td>\n",
       "      <td>3.90</td>\n",
       "      <td>1</td>\n",
       "      <td>0</td>\n",
       "      <td>0</td>\n",
       "      <td>0</td>\n",
       "      <td>1.000000</td>\n",
       "      <td>1.000000</td>\n",
       "      <td>75.272837</td>\n",
       "      <td>8.642239</td>\n",
       "      <td>5666</td>\n",
       "      <td>1.000000</td>\n",
       "    </tr>\n",
       "    <tr>\n",
       "      <th>159</th>\n",
       "      <td>SKU1</td>\n",
       "      <td>2020-02-23</td>\n",
       "      <td>29275</td>\n",
       "      <td>0.01</td>\n",
       "      <td>0</td>\n",
       "      <td>0</td>\n",
       "      <td>0</td>\n",
       "      <td>3.90</td>\n",
       "      <td>1</td>\n",
       "      <td>0</td>\n",
       "      <td>0</td>\n",
       "      <td>0</td>\n",
       "      <td>1.000000</td>\n",
       "      <td>1.000000</td>\n",
       "      <td>171.099386</td>\n",
       "      <td>10.284489</td>\n",
       "      <td>29275</td>\n",
       "      <td>1.000000</td>\n",
       "    </tr>\n",
       "    <tr>\n",
       "      <th>1179</th>\n",
       "      <td>SKU6</td>\n",
       "      <td>2020-02-23</td>\n",
       "      <td>24330</td>\n",
       "      <td>0.69</td>\n",
       "      <td>0</td>\n",
       "      <td>0</td>\n",
       "      <td>0</td>\n",
       "      <td>3.90</td>\n",
       "      <td>1</td>\n",
       "      <td>0</td>\n",
       "      <td>0</td>\n",
       "      <td>0</td>\n",
       "      <td>1.000000</td>\n",
       "      <td>1.000000</td>\n",
       "      <td>155.980768</td>\n",
       "      <td>10.099465</td>\n",
       "      <td>24330</td>\n",
       "      <td>1.000000</td>\n",
       "    </tr>\n",
       "    <tr>\n",
       "      <th>567</th>\n",
       "      <td>SKU3</td>\n",
       "      <td>2020-02-23</td>\n",
       "      <td>31172</td>\n",
       "      <td>0.74</td>\n",
       "      <td>0</td>\n",
       "      <td>1</td>\n",
       "      <td>0</td>\n",
       "      <td>3.90</td>\n",
       "      <td>1</td>\n",
       "      <td>0</td>\n",
       "      <td>0</td>\n",
       "      <td>0</td>\n",
       "      <td>1.000000</td>\n",
       "      <td>1.000000</td>\n",
       "      <td>176.555940</td>\n",
       "      <td>10.347276</td>\n",
       "      <td>31172</td>\n",
       "      <td>1.000000</td>\n",
       "    </tr>\n",
       "    <tr>\n",
       "      <th>363</th>\n",
       "      <td>SKU2</td>\n",
       "      <td>2020-02-23</td>\n",
       "      <td>9823</td>\n",
       "      <td>0.26</td>\n",
       "      <td>1</td>\n",
       "      <td>0</td>\n",
       "      <td>0</td>\n",
       "      <td>3.90</td>\n",
       "      <td>1</td>\n",
       "      <td>0</td>\n",
       "      <td>0</td>\n",
       "      <td>0</td>\n",
       "      <td>1.000000</td>\n",
       "      <td>1.000000</td>\n",
       "      <td>99.111049</td>\n",
       "      <td>9.192482</td>\n",
       "      <td>9823</td>\n",
       "      <td>1.000000</td>\n",
       "    </tr>\n",
       "  </tbody>\n",
       "</table>\n",
       "<p>1218 rows × 18 columns</p>\n",
       "</div>"
      ],
      "text/plain": [
       "     Product       date  Sales  Price Discount (%)  In-Store Promo  \\\n",
       "165     SKU1 2020-04-05  39473                0.01               0   \n",
       "573     SKU3 2020-04-05  29350                0.67               0   \n",
       "369     SKU2 2020-04-05   3719                0.01               0   \n",
       "981     SKU5 2020-04-05  16928                0.25               0   \n",
       "1185    SKU6 2020-04-05   9705                0.53               0   \n",
       "...      ...        ...    ...                 ...             ...   \n",
       "975     SKU5 2020-02-23   5666                0.00               0   \n",
       "159     SKU1 2020-02-23  29275                0.01               0   \n",
       "1179    SKU6 2020-02-23  24330                0.69               0   \n",
       "567     SKU3 2020-02-23  31172                0.74               0   \n",
       "363     SKU2 2020-02-23   9823                0.26               1   \n",
       "\n",
       "      Catalogue Promo  Store End Promo  Google_Mobility  Covid_Flag  V_DAY  \\\n",
       "165                 1                0           -28.49           1      0   \n",
       "573                 1                0           -28.49           1      0   \n",
       "369                 0                0           -28.49           1      0   \n",
       "981                 1                0           -28.49           1      0   \n",
       "1185                0                0           -28.49           1      0   \n",
       "...               ...              ...              ...         ...    ...   \n",
       "975                 0                0             3.90           1      0   \n",
       "159                 0                0             3.90           1      0   \n",
       "1179                0                0             3.90           1      0   \n",
       "567                 1                0             3.90           1      0   \n",
       "363                 0                0             3.90           1      0   \n",
       "\n",
       "      EASTER  CHRISTMAS  transformed_cuberootgm  transformed_sqrtgm  \\\n",
       "165        0          0                3.220121            5.778408   \n",
       "573        0          0                3.220121            5.778408   \n",
       "369        0          0                3.220121            5.778408   \n",
       "981        0          0                3.220121            5.778408   \n",
       "1185       0          0                3.220121            5.778408   \n",
       "...      ...        ...                     ...                 ...   \n",
       "975        0          0                1.000000            1.000000   \n",
       "159        0          0                1.000000            1.000000   \n",
       "1179       0          0                1.000000            1.000000   \n",
       "567        0          0                1.000000            1.000000   \n",
       "363        0          0                1.000000            1.000000   \n",
       "\n",
       "      sales_sqrt  log_sales  sales_interpolated  cuberoot_googlemobility  \n",
       "165   198.678132  10.583372               39473                 3.220121  \n",
       "573   171.318417  10.287048               29350                 3.220121  \n",
       "369    60.983604   8.221210                3719                 3.220121  \n",
       "981   130.107648   9.736724               16928                 3.220121  \n",
       "1185   98.513958   9.180396                9705                 3.220121  \n",
       "...          ...        ...                 ...                      ...  \n",
       "975    75.272837   8.642239                5666                 1.000000  \n",
       "159   171.099386  10.284489               29275                 1.000000  \n",
       "1179  155.980768  10.099465               24330                 1.000000  \n",
       "567   176.555940  10.347276               31172                 1.000000  \n",
       "363    99.111049   9.192482                9823                 1.000000  \n",
       "\n",
       "[1218 rows x 18 columns]"
      ]
     },
     "execution_count": 172,
     "metadata": {},
     "output_type": "execute_result"
    }
   ],
   "source": [
    "\n",
    "\n",
    "GM_ascend = sales_data.sort_values(by='Google_Mobility', ascending= True)\n",
    "\n",
    "GM_ascend\n"
   ]
  },
  {
   "cell_type": "markdown",
   "id": "aa0fef2d-77d0-4144-9404-a86a7944680e",
   "metadata": {},
   "source": [
    "Google mobility is highly affected by covid flag(which is binary, 1- yes and 0-no), the first five weeks that covid_flag was 1, the google mobilty was high then it dropped.Therefore, the leftskewness in the google mobility column arent truly outliers but was affected by the covid data.Below we will try few methods to normalize the data to reduce the skewness and maintain the parttern in our data. "
   ]
  },
  {
   "cell_type": "code",
   "execution_count": 157,
   "id": "1ad4d741-2abd-4acb-8595-748147023790",
   "metadata": {},
   "outputs": [
    {
     "data": {
      "text/plain": [
       "0       1.698499\n",
       "1       1.698499\n",
       "2       1.698499\n",
       "3       1.698499\n",
       "4       1.698499\n",
       "          ...   \n",
       "1213    2.318316\n",
       "1214    2.368691\n",
       "1215    2.310225\n",
       "1216    2.213825\n",
       "1217    2.295770\n",
       "Name: cuberoot_googlemobility, Length: 1218, dtype: float64"
      ]
     },
     "execution_count": 157,
     "metadata": {},
     "output_type": "execute_result"
    }
   ],
   "source": [
    "# applying the cube root transformation\n",
    "\n",
    "sales_data['cuberoot_googlemobility'] = np.cbrt(sales_data['Google_Mobility'].max() + 1 - sales_data['Google_Mobility'])\n",
    "sales_data['cuberoot_googlemobility']"
   ]
  },
  {
   "cell_type": "code",
   "execution_count": 158,
   "id": "434c6f5d-da09-472f-9ad1-9420b5739679",
   "metadata": {},
   "outputs": [
    {
     "name": "stderr",
     "output_type": "stream",
     "text": [
      "/Library/Frameworks/Python.framework/Versions/3.12/lib/python3.12/site-packages/seaborn/categorical.py:640: FutureWarning: SeriesGroupBy.grouper is deprecated and will be removed in a future version of pandas.\n",
      "  positions = grouped.grouper.result_index.to_numpy(dtype=float)\n"
     ]
    },
    {
     "data": {
      "image/png": "[encoded data removed]",
      "text/plain": [
       "<Figure size 1000x500 with 1 Axes>"
      ]
     },
     "metadata": {},
     "output_type": "display_data"
    }
   ],
   "source": [
    "plt.figure(figsize=(10, 5))\n",
    "sns.boxplot(x=sales_data['cuberoot_googlemobility'])\n",
    "plt.title('Boxplot of GM Cuberoot')\n",
    "plt.show()"
   ]
  },
  {
   "cell_type": "code",
   "execution_count": 173,
   "id": "9b3dcdb1-7e37-4597-94b8-766e65775833",
   "metadata": {},
   "outputs": [
    {
     "data": {
      "text/plain": [
       "0       2.213594\n",
       "1       2.213594\n",
       "2       2.213594\n",
       "3       2.213594\n",
       "4       2.213594\n",
       "          ...   \n",
       "1213    3.529873\n",
       "1214    3.645545\n",
       "1215    3.511410\n",
       "1216    3.293934\n",
       "1217    3.478505\n",
       "Name: squareroot_googlemobility, Length: 1218, dtype: float64"
      ]
     },
     "execution_count": 173,
     "metadata": {},
     "output_type": "execute_result"
    }
   ],
   "source": [
    "#Transforming the values using the squareroot method\n",
    "\n",
    "sales_data['squareroot_googlemobility'] = np.sqrt(sales_data['Google_Mobility'].max() + 1 - sales_data['Google_Mobility'])\n",
    "sales_data['squareroot_googlemobility']"
   ]
  },
  {
   "cell_type": "code",
   "execution_count": 174,
   "id": "2d5cccfd-fb1e-423a-9cf7-f85c153adc86",
   "metadata": {},
   "outputs": [
    {
     "name": "stderr",
     "output_type": "stream",
     "text": [
      "/Library/Frameworks/Python.framework/Versions/3.12/lib/python3.12/site-packages/seaborn/categorical.py:640: FutureWarning: SeriesGroupBy.grouper is deprecated and will be removed in a future version of pandas.\n",
      "  positions = grouped.grouper.result_index.to_numpy(dtype=float)\n"
     ]
    },
    {
     "data": {
      "image/png": "[encoded data removed]",
      "text/plain": [
       "<Figure size 1000x500 with 1 Axes>"
      ]
     },
     "metadata": {},
     "output_type": "display_data"
    }
   ],
   "source": [
    "plt.figure(figsize=(10, 5))\n",
    "sns.boxplot(x=sales_data['squareroot_googlemobility'])\n",
    "plt.title('Boxplot of squareroot_googlemobility')\n",
    "plt.show()"
   ]
  },
  {
   "cell_type": "markdown",
   "id": "c4ed765e-7d8b-4ee0-a346-0ae16cf86722",
   "metadata": {},
   "source": [
    "**Sales**"
   ]
  },
  {
   "cell_type": "code",
   "execution_count": 149,
   "id": "a819c09a-edc5-49fa-87f6-51b9e2a5788d",
   "metadata": {},
   "outputs": [
    {
     "data": {
      "text/plain": [
       "Product                                  SKU3\n",
       "date                      2018-06-10 00:00:00\n",
       "Sales                                  288322\n",
       "Price Discount (%)                        0.5\n",
       "In-Store Promo                              1\n",
       "Catalogue Promo                             0\n",
       "Store End Promo                             1\n",
       "Google_Mobility                           0.0\n",
       "Covid_Flag                                  0\n",
       "V_DAY                                       0\n",
       "EASTER                                      0\n",
       "CHRISTMAS                                   0\n",
       "transformed_cuberootgm               1.698499\n",
       "transformed_sqrtgm                   2.213594\n",
       "Name: 478, dtype: object"
      ]
     },
     "execution_count": 149,
     "metadata": {},
     "output_type": "execute_result"
    }
   ],
   "source": [
    "max_sales = sales_data.loc[sales_data['Sales'].idxmax()]\n",
    "max_sales"
   ]
  },
  {
   "cell_type": "code",
   "execution_count": 150,
   "id": "5f492147-8504-44de-a477-9d76864c08c3",
   "metadata": {},
   "outputs": [
    {
     "data": {
      "text/html": [
       "<div>\n",
       "<style scoped>\n",
       "    .dataframe tbody tr th:only-of-type {\n",
       "        vertical-align: middle;\n",
       "    }\n",
       "\n",
       "    .dataframe tbody tr th {\n",
       "        vertical-align: top;\n",
       "    }\n",
       "\n",
       "    .dataframe thead th {\n",
       "        text-align: right;\n",
       "    }\n",
       "</style>\n",
       "<table border=\"1\" class=\"dataframe\">\n",
       "  <thead>\n",
       "    <tr style=\"text-align: right;\">\n",
       "      <th></th>\n",
       "      <th>Product</th>\n",
       "      <th>date</th>\n",
       "      <th>Sales</th>\n",
       "      <th>Price Discount (%)</th>\n",
       "      <th>In-Store Promo</th>\n",
       "      <th>Catalogue Promo</th>\n",
       "      <th>Store End Promo</th>\n",
       "      <th>Google_Mobility</th>\n",
       "      <th>Covid_Flag</th>\n",
       "      <th>V_DAY</th>\n",
       "      <th>EASTER</th>\n",
       "      <th>CHRISTMAS</th>\n",
       "      <th>transformed_cuberootgm</th>\n",
       "      <th>transformed_sqrtgm</th>\n",
       "    </tr>\n",
       "  </thead>\n",
       "  <tbody>\n",
       "    <tr>\n",
       "      <th>478</th>\n",
       "      <td>SKU3</td>\n",
       "      <td>2018-06-10</td>\n",
       "      <td>288322</td>\n",
       "      <td>0.50</td>\n",
       "      <td>1</td>\n",
       "      <td>0</td>\n",
       "      <td>1</td>\n",
       "      <td>0.00</td>\n",
       "      <td>0</td>\n",
       "      <td>0</td>\n",
       "      <td>0</td>\n",
       "      <td>0</td>\n",
       "      <td>1.698499</td>\n",
       "      <td>2.213594</td>\n",
       "    </tr>\n",
       "    <tr>\n",
       "      <th>150</th>\n",
       "      <td>SKU1</td>\n",
       "      <td>2019-12-22</td>\n",
       "      <td>258874</td>\n",
       "      <td>0.44</td>\n",
       "      <td>0</td>\n",
       "      <td>1</td>\n",
       "      <td>1</td>\n",
       "      <td>0.00</td>\n",
       "      <td>0</td>\n",
       "      <td>0</td>\n",
       "      <td>0</td>\n",
       "      <td>0</td>\n",
       "      <td>1.698499</td>\n",
       "      <td>2.213594</td>\n",
       "    </tr>\n",
       "    <tr>\n",
       "      <th>426</th>\n",
       "      <td>SKU3</td>\n",
       "      <td>2017-06-11</td>\n",
       "      <td>248373</td>\n",
       "      <td>0.50</td>\n",
       "      <td>1</td>\n",
       "      <td>0</td>\n",
       "      <td>1</td>\n",
       "      <td>0.00</td>\n",
       "      <td>0</td>\n",
       "      <td>0</td>\n",
       "      <td>0</td>\n",
       "      <td>0</td>\n",
       "      <td>1.698499</td>\n",
       "      <td>2.213594</td>\n",
       "    </tr>\n",
       "    <tr>\n",
       "      <th>1058</th>\n",
       "      <td>SKU6</td>\n",
       "      <td>2017-10-29</td>\n",
       "      <td>241114</td>\n",
       "      <td>0.53</td>\n",
       "      <td>1</td>\n",
       "      <td>0</td>\n",
       "      <td>0</td>\n",
       "      <td>0.00</td>\n",
       "      <td>0</td>\n",
       "      <td>0</td>\n",
       "      <td>0</td>\n",
       "      <td>0</td>\n",
       "      <td>1.698499</td>\n",
       "      <td>2.213594</td>\n",
       "    </tr>\n",
       "    <tr>\n",
       "      <th>494</th>\n",
       "      <td>SKU3</td>\n",
       "      <td>2018-09-30</td>\n",
       "      <td>237462</td>\n",
       "      <td>0.50</td>\n",
       "      <td>1</td>\n",
       "      <td>0</td>\n",
       "      <td>1</td>\n",
       "      <td>0.00</td>\n",
       "      <td>0</td>\n",
       "      <td>0</td>\n",
       "      <td>0</td>\n",
       "      <td>0</td>\n",
       "      <td>1.698499</td>\n",
       "      <td>2.213594</td>\n",
       "    </tr>\n",
       "    <tr>\n",
       "      <th>437</th>\n",
       "      <td>SKU3</td>\n",
       "      <td>2017-08-27</td>\n",
       "      <td>236242</td>\n",
       "      <td>0.50</td>\n",
       "      <td>1</td>\n",
       "      <td>0</td>\n",
       "      <td>1</td>\n",
       "      <td>0.00</td>\n",
       "      <td>0</td>\n",
       "      <td>0</td>\n",
       "      <td>0</td>\n",
       "      <td>0</td>\n",
       "      <td>1.698499</td>\n",
       "      <td>2.213594</td>\n",
       "    </tr>\n",
       "    <tr>\n",
       "      <th>540</th>\n",
       "      <td>SKU3</td>\n",
       "      <td>2019-08-18</td>\n",
       "      <td>224723</td>\n",
       "      <td>0.52</td>\n",
       "      <td>1</td>\n",
       "      <td>0</td>\n",
       "      <td>1</td>\n",
       "      <td>0.00</td>\n",
       "      <td>0</td>\n",
       "      <td>0</td>\n",
       "      <td>0</td>\n",
       "      <td>0</td>\n",
       "      <td>1.698499</td>\n",
       "      <td>2.213594</td>\n",
       "    </tr>\n",
       "    <tr>\n",
       "      <th>447</th>\n",
       "      <td>SKU3</td>\n",
       "      <td>2017-11-05</td>\n",
       "      <td>212947</td>\n",
       "      <td>0.50</td>\n",
       "      <td>1</td>\n",
       "      <td>0</td>\n",
       "      <td>1</td>\n",
       "      <td>0.00</td>\n",
       "      <td>0</td>\n",
       "      <td>0</td>\n",
       "      <td>0</td>\n",
       "      <td>0</td>\n",
       "      <td>1.698499</td>\n",
       "      <td>2.213594</td>\n",
       "    </tr>\n",
       "    <tr>\n",
       "      <th>421</th>\n",
       "      <td>SKU3</td>\n",
       "      <td>2017-05-07</td>\n",
       "      <td>212245</td>\n",
       "      <td>0.50</td>\n",
       "      <td>1</td>\n",
       "      <td>0</td>\n",
       "      <td>0</td>\n",
       "      <td>0.00</td>\n",
       "      <td>0</td>\n",
       "      <td>0</td>\n",
       "      <td>0</td>\n",
       "      <td>0</td>\n",
       "      <td>1.698499</td>\n",
       "      <td>2.213594</td>\n",
       "    </tr>\n",
       "    <tr>\n",
       "      <th>546</th>\n",
       "      <td>SKU3</td>\n",
       "      <td>2019-09-29</td>\n",
       "      <td>207356</td>\n",
       "      <td>0.54</td>\n",
       "      <td>1</td>\n",
       "      <td>0</td>\n",
       "      <td>1</td>\n",
       "      <td>0.00</td>\n",
       "      <td>0</td>\n",
       "      <td>0</td>\n",
       "      <td>0</td>\n",
       "      <td>0</td>\n",
       "      <td>1.698499</td>\n",
       "      <td>2.213594</td>\n",
       "    </tr>\n",
       "    <tr>\n",
       "      <th>530</th>\n",
       "      <td>SKU3</td>\n",
       "      <td>2019-06-09</td>\n",
       "      <td>197503</td>\n",
       "      <td>0.55</td>\n",
       "      <td>1</td>\n",
       "      <td>0</td>\n",
       "      <td>0</td>\n",
       "      <td>0.00</td>\n",
       "      <td>0</td>\n",
       "      <td>0</td>\n",
       "      <td>0</td>\n",
       "      <td>0</td>\n",
       "      <td>1.698499</td>\n",
       "      <td>2.213594</td>\n",
       "    </tr>\n",
       "    <tr>\n",
       "      <th>514</th>\n",
       "      <td>SKU3</td>\n",
       "      <td>2019-02-17</td>\n",
       "      <td>195088</td>\n",
       "      <td>0.50</td>\n",
       "      <td>1</td>\n",
       "      <td>0</td>\n",
       "      <td>1</td>\n",
       "      <td>0.00</td>\n",
       "      <td>0</td>\n",
       "      <td>0</td>\n",
       "      <td>0</td>\n",
       "      <td>0</td>\n",
       "      <td>1.698499</td>\n",
       "      <td>2.213594</td>\n",
       "    </tr>\n",
       "    <tr>\n",
       "      <th>592</th>\n",
       "      <td>SKU3</td>\n",
       "      <td>2020-08-16</td>\n",
       "      <td>189965</td>\n",
       "      <td>0.83</td>\n",
       "      <td>1</td>\n",
       "      <td>0</td>\n",
       "      <td>1</td>\n",
       "      <td>-20.35</td>\n",
       "      <td>1</td>\n",
       "      <td>0</td>\n",
       "      <td>0</td>\n",
       "      <td>0</td>\n",
       "      <td>2.933732</td>\n",
       "      <td>5.024938</td>\n",
       "    </tr>\n",
       "    <tr>\n",
       "      <th>566</th>\n",
       "      <td>SKU3</td>\n",
       "      <td>2020-02-16</td>\n",
       "      <td>187548</td>\n",
       "      <td>0.51</td>\n",
       "      <td>1</td>\n",
       "      <td>0</td>\n",
       "      <td>1</td>\n",
       "      <td>3.30</td>\n",
       "      <td>1</td>\n",
       "      <td>1</td>\n",
       "      <td>0</td>\n",
       "      <td>0</td>\n",
       "      <td>1.169607</td>\n",
       "      <td>1.264911</td>\n",
       "    </tr>\n",
       "    <tr>\n",
       "      <th>588</th>\n",
       "      <td>SKU3</td>\n",
       "      <td>2020-07-19</td>\n",
       "      <td>184365</td>\n",
       "      <td>0.83</td>\n",
       "      <td>1</td>\n",
       "      <td>0</td>\n",
       "      <td>0</td>\n",
       "      <td>-8.77</td>\n",
       "      <td>1</td>\n",
       "      <td>0</td>\n",
       "      <td>0</td>\n",
       "      <td>0</td>\n",
       "      <td>2.391055</td>\n",
       "      <td>3.697296</td>\n",
       "    </tr>\n",
       "  </tbody>\n",
       "</table>\n",
       "</div>"
      ],
      "text/plain": [
       "     Product       date   Sales  Price Discount (%)  In-Store Promo  \\\n",
       "478     SKU3 2018-06-10  288322                0.50               1   \n",
       "150     SKU1 2019-12-22  258874                0.44               0   \n",
       "426     SKU3 2017-06-11  248373                0.50               1   \n",
       "1058    SKU6 2017-10-29  241114                0.53               1   \n",
       "494     SKU3 2018-09-30  237462                0.50               1   \n",
       "437     SKU3 2017-08-27  236242                0.50               1   \n",
       "540     SKU3 2019-08-18  224723                0.52               1   \n",
       "447     SKU3 2017-11-05  212947                0.50               1   \n",
       "421     SKU3 2017-05-07  212245                0.50               1   \n",
       "546     SKU3 2019-09-29  207356                0.54               1   \n",
       "530     SKU3 2019-06-09  197503                0.55               1   \n",
       "514     SKU3 2019-02-17  195088                0.50               1   \n",
       "592     SKU3 2020-08-16  189965                0.83               1   \n",
       "566     SKU3 2020-02-16  187548                0.51               1   \n",
       "588     SKU3 2020-07-19  184365                0.83               1   \n",
       "\n",
       "      Catalogue Promo  Store End Promo  Google_Mobility  Covid_Flag  V_DAY  \\\n",
       "478                 0                1             0.00           0      0   \n",
       "150                 1                1             0.00           0      0   \n",
       "426                 0                1             0.00           0      0   \n",
       "1058                0                0             0.00           0      0   \n",
       "494                 0                1             0.00           0      0   \n",
       "437                 0                1             0.00           0      0   \n",
       "540                 0                1             0.00           0      0   \n",
       "447                 0                1             0.00           0      0   \n",
       "421                 0                0             0.00           0      0   \n",
       "546                 0                1             0.00           0      0   \n",
       "530                 0                0             0.00           0      0   \n",
       "514                 0                1             0.00           0      0   \n",
       "592                 0                1           -20.35           1      0   \n",
       "566                 0                1             3.30           1      1   \n",
       "588                 0                0            -8.77           1      0   \n",
       "\n",
       "      EASTER  CHRISTMAS  transformed_cuberootgm  transformed_sqrtgm  \n",
       "478        0          0                1.698499            2.213594  \n",
       "150        0          0                1.698499            2.213594  \n",
       "426        0          0                1.698499            2.213594  \n",
       "1058       0          0                1.698499            2.213594  \n",
       "494        0          0                1.698499            2.213594  \n",
       "437        0          0                1.698499            2.213594  \n",
       "540        0          0                1.698499            2.213594  \n",
       "447        0          0                1.698499            2.213594  \n",
       "421        0          0                1.698499            2.213594  \n",
       "546        0          0                1.698499            2.213594  \n",
       "530        0          0                1.698499            2.213594  \n",
       "514        0          0                1.698499            2.213594  \n",
       "592        0          0                2.933732            5.024938  \n",
       "566        0          0                1.169607            1.264911  \n",
       "588        0          0                2.391055            3.697296  "
      ]
     },
     "execution_count": 150,
     "metadata": {},
     "output_type": "execute_result"
    }
   ],
   "source": [
    "sales_desc = sales_data.sort_values(by='Sales', ascending=False)\n",
    "\n",
    "sales_desc.head(15)"
   ]
  },
  {
   "cell_type": "markdown",
   "id": "bf21523d-b3a9-471d-b8b5-4b76ee451afe",
   "metadata": {},
   "source": [
    "From the above we can see that the sales are influenced by a few factors(the presence of promotions and the discount), also the SKU3 seems to sell alot. Therefore, we cannot treat this values as outliers but rather normalize them. "
   ]
  },
  {
   "cell_type": "code",
   "execution_count": 151,
   "id": "334c9528-5e8f-43fc-aa94-91b7c31f1392",
   "metadata": {},
   "outputs": [
    {
     "name": "stderr",
     "output_type": "stream",
     "text": [
      "/Library/Frameworks/Python.framework/Versions/3.12/lib/python3.12/site-packages/seaborn/categorical.py:640: FutureWarning: SeriesGroupBy.grouper is deprecated and will be removed in a future version of pandas.\n",
      "  positions = grouped.grouper.result_index.to_numpy(dtype=float)\n"
     ]
    },
    {
     "data": {
      "image/png": "[encoded data removed]",
      "text/plain": [
       "<Figure size 1000x500 with 1 Axes>"
      ]
     },
     "metadata": {},
     "output_type": "display_data"
    }
   ],
   "source": [
    "# normalizing the sales column using square roots and visualising\n",
    "\n",
    "sales_data['sales_sqrt'] =np.sqrt(sales_data['Sales'])\n",
    "\n",
    "plt.figure(figsize=(10, 5))\n",
    "sns.boxplot(x=sales_data['sales_sqrt'])\n",
    "plt.title('Boxplot of sqrt_sales')\n",
    "plt.show()"
   ]
  },
  {
   "cell_type": "code",
   "execution_count": null,
   "id": "bd8c16b6-d625-4afc-afff-645bba42e56f",
   "metadata": {},
   "outputs": [],
   "source": []
  }
 ],
 "metadata": {
  "kernelspec": {
   "display_name": "Python 3 (ipykernel)",
   "language": "python",
   "name": "python3"
  },
  "language_info": {
   "codemirror_mode": {
    "name": "ipython",
    "version": 3
   },
   "file_extension": ".py",
   "mimetype": "text/x-python",
   "name": "python",
   "nbconvert_exporter": "python",
   "pygments_lexer": "ipython3",
   "version": "3.12.0"
  }
 },
 "nbformat": 4,
 "nbformat_minor": 5
}
